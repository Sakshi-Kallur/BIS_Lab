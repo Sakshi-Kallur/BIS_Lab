{
  "nbformat": 4,
  "nbformat_minor": 0,
  "metadata": {
    "colab": {
      "provenance": []
    },
    "kernelspec": {
      "name": "python3",
      "display_name": "Python 3"
    },
    "language_info": {
      "name": "python"
    }
  },
  "cells": [
    {
      "cell_type": "code",
      "source": [
        "import numpy as np\n",
        "from itertools import permutations\n",
        "\n",
        "\n",
        "def calculate_distance(tour, distance_matrix):\n",
        "    return sum(distance_matrix[tour[i], tour[i + 1]] for i in range(len(tour) - 1)) + distance_matrix[tour[-1], tour[0]]\n",
        "\n",
        "\n",
        "class TSPParticle:\n",
        "    def __init__(self, num_cities):\n",
        "        self.position = np.random.permutation(num_cities)\n",
        "        self.best_position = np.copy(self.position)\n",
        "        self.best_value = float('inf')\n",
        "\n",
        "\n",
        "def pso_tsp(num_particles, num_cities, distance_matrix, num_iterations, w, c1, c2):\n",
        "    swarm = [TSPParticle(num_cities) for _ in range(num_particles)]\n",
        "    global_best_position = np.copy(swarm[0].position)\n",
        "    global_best_value = float('inf')\n",
        "\n",
        "\n",
        "    for particle in swarm:\n",
        "        fitness_value = calculate_distance(particle.position, distance_matrix)\n",
        "        if fitness_value < particle.best_value:\n",
        "            particle.best_value = fitness_value\n",
        "            particle.best_position = np.copy(particle.position)\n",
        "        if fitness_value < global_best_value:\n",
        "            global_best_value = fitness_value\n",
        "            global_best_position = np.copy(particle.position)\n",
        "\n",
        "\n",
        "    for _ in range(num_iterations):\n",
        "        for particle in swarm:\n",
        "            # Update position (swap two cities)\n",
        "            i, j = np.random.choice(num_cities, 2, replace=False)\n",
        "            particle.position[i], particle.position[j] = particle.position[j], particle.position[i]\n",
        "\n",
        "\n",
        "            # Evaluate fitness\n",
        "            fitness_value = calculate_distance(particle.position, distance_matrix)\n",
        "\n",
        "\n",
        "            # Update personal best\n",
        "            if fitness_value < particle.best_value:\n",
        "                particle.best_value = fitness_value\n",
        "                particle.best_position = np.copy(particle.position)\n",
        "\n",
        "\n",
        "            # Update global best\n",
        "            if fitness_value < global_best_value:\n",
        "                global_best_value = fitness_value\n",
        "                global_best_position = np.copy(particle.best_position)\n",
        "\n",
        "\n",
        "    return global_best_position, global_best_value\n",
        "\n",
        "\n",
        "# Example usage\n",
        "num_cities = 5\n",
        "distance_matrix = np.random.randint(1, 10, (num_cities, num_cities))\n",
        "np.fill_diagonal(distance_matrix, 0)  # Distance to self is 0\n",
        "best_tour, best_distance = pso_tsp(num_particles=30, num_cities=num_cities,distance_matrix=distance_matrix, num_iterations=100,w=0.5, c1=1.0, c2=1.0)\n",
        "\n",
        "\n",
        "print(\"Best Tour:\", best_tour)\n",
        "print(\"Best Distance:\", best_distance)\n"
      ],
      "metadata": {
        "colab": {
          "base_uri": "https://localhost:8080/"
        },
        "id": "tsDBn53Y0b79",
        "outputId": "459e7128-900c-4c04-b163-e55802eb586d"
      },
      "execution_count": 2,
      "outputs": [
        {
          "output_type": "stream",
          "name": "stdout",
          "text": [
            "Best Tour: [0 4 3 1 2]\n",
            "Best Distance: 12\n"
          ]
        }
      ]
    }
  ]
}