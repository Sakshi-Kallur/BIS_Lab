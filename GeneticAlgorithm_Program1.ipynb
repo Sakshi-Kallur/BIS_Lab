{
  "nbformat": 4,
  "nbformat_minor": 0,
  "metadata": {
    "colab": {
      "provenance": []
    },
    "kernelspec": {
      "name": "python3",
      "display_name": "Python 3"
    },
    "language_info": {
      "name": "python"
    }
  },
  "cells": [
    {
      "cell_type": "code",
      "execution_count": 1,
      "metadata": {
        "colab": {
          "base_uri": "https://localhost:8080/"
        },
        "id": "Gec-a-vky7OT",
        "outputId": "11fbd1c2-8f61-43c0-a420-57032760a3fa"
      },
      "outputs": [
        {
          "output_type": "stream",
          "name": "stdout",
          "text": [
            "Best Schedule (Task IDs): [2, 1, 0, 4, 3]\n",
            "Total Turnaround Time: 43\n"
          ]
        }
      ],
      "source": [
        "import numpy as np\n",
        "\n",
        "\n",
        "class Task:\n",
        "    def __init__(self, id, execution_time):\n",
        "        self.id = id\n",
        "        self.execution_time = execution_time\n",
        "\n",
        "\n",
        "# Fitness function to calculate total turnaround time\n",
        "def calculate_turnaround_time(schedule):\n",
        "    turnaround_time = 0\n",
        "    total_time = 0\n",
        "    for task in schedule:\n",
        "        total_time += task.execution_time\n",
        "        turnaround_time += total_time  # Cumulative time\n",
        "    return turnaround_time\n",
        "\n",
        "\n",
        "# Initialize population\n",
        "def initialize_population(tasks, population_size):\n",
        "    return [np.random.permutation(tasks) for _ in range(population_size)]\n",
        "\n",
        "\n",
        "# Selection: Tournament selection\n",
        "def selection(population):\n",
        "    tournament_size = 3\n",
        "    selected_indices = np.random.choice(len(population), tournament_size, replace=False)\n",
        "    selected = [population[i] for i in selected_indices]\n",
        "    selected.sort(key=lambda x: calculate_turnaround_time(x))\n",
        "    return selected[0]  # Best individual\n",
        "\n",
        "\n",
        "# Crossover: Order crossover\n",
        "def crossover(parent1, parent2):\n",
        "    size = len(parent1)\n",
        "    start, end = sorted(np.random.choice(range(size), 2, replace=False))\n",
        "    child = [None] * size\n",
        "    child[start:end] = parent1[start:end]\n",
        "\n",
        "    fill_pos = [i for i in range(size) if child[i] is None]\n",
        "    fill_values = [item for item in parent2 if item not in child]\n",
        "\n",
        "    for pos in fill_pos:\n",
        "        child[pos] = fill_values.pop(0)\n",
        "\n",
        "    return child\n",
        "\n",
        "\n",
        "# Mutation: Swap mutation\n",
        "def mutate(schedule, mutation_rate=0.1):\n",
        "    if np.random.rand() < mutation_rate:\n",
        "        i, j = np.random.choice(len(schedule), 2, replace=False)\n",
        "        schedule[i], schedule[j] = schedule[j], schedule[i]\n",
        "    return schedule\n",
        "\n",
        "\n",
        "# Genetic Algorithm for FIFO Scheduling\n",
        "def genetic_algorithm(tasks, population_size, generations):\n",
        "    population = initialize_population(tasks, population_size)\n",
        "    for _ in range(generations):\n",
        "        new_population = []\n",
        "        for _ in range(population_size):\n",
        "            parent1 = selection(population)\n",
        "            parent2 = selection(population)\n",
        "            child = crossover(parent1, parent2)\n",
        "            child = mutate(child)\n",
        "            new_population.append(child)\n",
        "        population = new_population\n",
        "    # Return the best solution found\n",
        "    best_schedule = min(population, key=lambda x: calculate_turnaround_time(x))\n",
        "    return best_schedule, calculate_turnaround_time(best_schedule)\n",
        "\n",
        "\n",
        "# Example usage\n",
        "tasks = [Task(i, np.random.randint(1, 10)) for i in range(5)]  # Create 5 tasks with random execution times\n",
        "best_schedule, best_time = genetic_algorithm(tasks, population_size=20, generations=100)\n",
        "\n",
        "\n",
        "print(\"Best Schedule (Task IDs):\", [task.id for task in best_schedule])\n",
        "print(\"Total Turnaround Time:\", best_time)"
      ]
    }
  ]
}